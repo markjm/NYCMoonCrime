{
 "cells": [
  {
   "cell_type": "markdown",
   "metadata": {},
   "source": [
    "# data.world\n",
    "## 2010-2015 NYC Crime Data"
   ]
  },
  {
   "cell_type": "markdown",
   "metadata": {},
   "source": [
    "> #### Setup  \n",
    "\n",
    "> Before running data.world notebooks for the first time, you'll need to:  \n",
    "1. Install data.world's Python package, including optional `pandas` dependencies: \n",
    "```shell\n",
    "pip install git+git://github.com/datadotworld/data.world-py.git#egg=project[pandas]\n",
    "```\n",
    "1. Obtain an API access token at https://data.world/settings/advanced\n",
    "1. Store API access token using the `dw` command-line tool: \n",
    "```shell\n",
    "dw configure\n",
    "```\n",
    "\n",
    "> Once your environment is set up, these steps do not need to be repeated for other data.world notebooks."
   ]
  },
  {
   "cell_type": "code",
   "execution_count": null,
   "metadata": {
    "scrolled": false
   },
   "outputs": [],
   "source": [
    "%matplotlib inline\n",
    "import warnings; warnings.simplefilter('ignore')\n",
    "\n",
    "import datadotworld as dw\n",
    "import numpy as np\n",
    "import pandas as pd\n",
    "import matplotlib.pyplot as plt\n",
    "import matplotlib.image as mpimg\n",
    "import matplotlib.gridspec as gridspec\n",
    "from mpl_toolkits.basemap import Basemap\n",
    "from datetime import timedelta, date\n",
    "import datetime"
   ]
  },
  {
   "cell_type": "code",
   "execution_count": null,
   "metadata": {
    "collapsed": true,
    "scrolled": false
   },
   "outputs": [],
   "source": [
    "# Datasets are referenced by their path\n",
    "dataset_key = 'carolinadata/2010-2015-nyc-crime-data'\n",
    "\n",
    "# Or simply by their URL\n",
    "dataset_key = 'https://data.world/carolinadata/2010-2015-nyc-crime-data'"
   ]
  },
  {
   "cell_type": "code",
   "execution_count": null,
   "metadata": {
    "collapsed": true,
    "scrolled": false
   },
   "outputs": [],
   "source": [
    "# Load dataset (onto the local file system)\n",
    "dataset_local = dw.load_dataset(dataset_key)  # cached under ~/.dw/cache"
   ]
  },
  {
   "cell_type": "code",
   "execution_count": null,
   "metadata": {
    "collapsed": true
   },
   "outputs": [],
   "source": [
    "# See what is in it\n",
    "dataset_local.describe('nypd_complaint_data_historic_short')"
   ]
  },
  {
   "cell_type": "code",
   "execution_count": null,
   "metadata": {
    "scrolled": false
   },
   "outputs": [],
   "source": [
    "#Using pandas dataframes\n",
    "nyc = dataset_local.dataframes['nypd_complaint_data_historic_short']\n",
    "\n",
    "#Ensure dates are actually dates\n",
    "nyc['cmplnt_fr_dt'] = pd.to_datetime(nyc['cmplnt_fr_dt'], errors = 'coerce')\n",
    "nyc[['latitude', 'longitude']]\n",
    "\n",
    "moon = pd.read_csv('moon.csv')\n",
    "moon['date'] = pd.to_datetime(moon['date'], errors = 'coerce')\n",
    "\n",
    "#Max value of hexbin bin over entire data, so bins are relative across plots\n",
    "maxVal = 0"
   ]
  },
  {
   "cell_type": "code",
   "execution_count": null,
   "metadata": {},
   "outputs": [],
   "source": [
    "nyc.head()"
   ]
  },
  {
   "cell_type": "code",
   "execution_count": null,
   "metadata": {},
   "outputs": [],
   "source": [
    "moon.head()"
   ]
  },
  {
   "cell_type": "code",
   "execution_count": null,
   "metadata": {
    "collapsed": true
   },
   "outputs": [],
   "source": [
    "#The map\n",
    "bm = Basemap(projection='mill',llcrnrlat=40.47,urcrnrlat=40.92,\\\n",
    "        llcrnrlon=-74.26, urcrnrlon=-73.7, lat_ts=40.5,resolution='f')"
   ]
  },
  {
   "cell_type": "code",
   "execution_count": null,
   "metadata": {
    "scrolled": false
   },
   "outputs": [],
   "source": [
    "def createNYCMap(x,y,t=None, m = bm):\n",
    "    global maxVal\n",
    "    \n",
    "    gs = gridspec.GridSpec(4,2,\n",
    "                       width_ratios=[5,1])\n",
    "    \n",
    "    plt.subplot(gs[:, 0])\n",
    "    #m = Basemap(projection='mill',llcrnrlat=40.47,urcrnrlat=40.92,\\\n",
    "    #    llcrnrlon=-74.26, urcrnrlon=-73.7, lat_ts=40.5,resolution=res)\n",
    "    \n",
    "    mx,my = m(y,x)\n",
    "\n",
    "    hb = m.hexbin(mx,my, gridsize=50, \n",
    "                  C=np.ones_like(y, dtype=np.float) / maxVal,\n",
    "                  reduce_C_function=np.sum,\n",
    "                  mincnt = 1, cmap=plt.cm.jet, bins='log')\n",
    "\n",
    "    maxVal = max(hb.get_array().max(), maxVal)\n",
    "    m.drawcoastlines()\n",
    "    m.fillcontinents(zorder = 0)\n",
    "    m.drawcountries(linewidth=.2)\n",
    "    if t is not None:\n",
    "        plt.title(t['phase'] + ' of ' + t['date'].strftime(\"%B %d, %Y\"))\n",
    "    \n",
    "    for i in range(0,4):\n",
    "        plt.subplot(gs[i, 1])\n",
    "        img = mpimg.imread(str(i+1) + '.png')\n",
    "        if i+1 == t['phaseid']:\n",
    "            fig = plt.imshow(img)\n",
    "        else:\n",
    "            fig = plt.imshow(img, alpha = .4)   \n",
    "        fig.axes.get_xaxis().set_visible(False)\n",
    "        fig.axes.get_yaxis().set_visible(False)\n",
    "\n",
    "    fig1 = plt.gcf()\n",
    "    plt.show()\n",
    "    fig1.savefig('figis/' + str(t['date']) + '.png')\n",
    "    return plt"
   ]
  },
  {
   "cell_type": "code",
   "execution_count": null,
   "metadata": {
    "scrolled": false
   },
   "outputs": [],
   "source": [
    "#Util functions, seem pretty self-explanatory\n",
    "def daterange(start_date, end_date):\n",
    "    for n in range(int ((end_date - start_date).days)):\n",
    "        yield start_date + timedelta(n)\n",
    "        \n",
    "def location_of_complaints_on_date(d):\n",
    "    return nyc[nyc['cmplnt_fr_dt'] == d][['latitude', 'longitude']].dropna(subset=['latitude', 'longitude'])\n",
    "\n",
    "def location_of_complaints_around_moons(dates):\n",
    "    date_list = []\n",
    "    for d in dates:\n",
    "        date_list += [d - datetime.timedelta(days=x) for x in range(0, 4)] + [d + datetime.timedelta(days=x) for x in range(1, 4)]\n",
    "    return nyc[nyc['cmplnt_fr_dt'].isin(date_list)][['latitude', 'longitude']].dropna(subset=['latitude', 'longitude'])\n",
    "\n",
    "def location_of_complaints_around_moon(d):\n",
    "    date_list = [d - datetime.timedelta(days=x) for x in range(0, 4)] + [d + datetime.timedelta(days=x) for x in range(1, 4)]\n",
    "    return nyc[nyc['cmplnt_fr_dt'].isin(date_list)][['latitude', 'longitude']].dropna(subset=['latitude', 'longitude'])\n",
    "\n",
    "def to_lists(df):\n",
    "    return np.array(df['latitude']), np.array(df['longitude'])\n",
    "\n",
    "def quick_plot(row):\n",
    "    d = row['date']\n",
    "    x,y = to_lists(location_of_complaints_around_moon(d))\n",
    "    return createNYCMap(x,y,t=row)\n",
    "\n",
    "start_date = date(2010, 1, 1)\n",
    "end_date = date(2015, 12, 31)"
   ]
  },
  {
   "cell_type": "code",
   "execution_count": null,
   "metadata": {},
   "outputs": [],
   "source": [
    "#must run this one first to correctly set maxVal\n",
    "allcomplaints = moon['date'].tolist()\n",
    "x,y = to_lists(location_of_complaints_around_moons(allcomplaints))\n",
    "createNYCMap(x,y)"
   ]
  },
  {
   "cell_type": "code",
   "execution_count": null,
   "metadata": {},
   "outputs": [],
   "source": [
    "#Generate each plot\n",
    "for _, row in moon.iterrows():\n",
    "    quick_plot(row)"
   ]
  },
  {
   "cell_type": "code",
   "execution_count": null,
   "metadata": {
    "collapsed": true
   },
   "outputs": [],
   "source": [
    "#Below require a little change to map function because I\n",
    "#broke it right at the end of the challenge and won't be fixing it."
   ]
  },
  {
   "cell_type": "code",
   "execution_count": null,
   "metadata": {
    "scrolled": false
   },
   "outputs": [],
   "source": [
    "#Summation of all full moons\n",
    "fulls = moon[moon['phase']=='Full Moon']['date'].tolist()\n",
    "x,y = to_lists(location_of_complaints_around_moons(fulls))\n",
    "createNYCMap(x,y)"
   ]
  },
  {
   "cell_type": "code",
   "execution_count": null,
   "metadata": {
    "scrolled": false
   },
   "outputs": [],
   "source": [
    "fulls = moon[moon['phase']=='Full Moon']['date'].tolist()\n",
    "x,y = to_lists(location_of_complaints_around_moons(fulls))\n",
    "createNYCMap(x, y, res = 'l')"
   ]
  },
  {
   "cell_type": "code",
   "execution_count": null,
   "metadata": {},
   "outputs": [],
   "source": [
    "news = moon[moon['phase']=='New Moon']['date'].tolist()\n",
    "x,y = to_lists(location_of_complaints_around_moons(news))\n",
    "createNYCMap(x, y, res = 'l')"
   ]
  },
  {
   "cell_type": "code",
   "execution_count": null,
   "metadata": {},
   "outputs": [],
   "source": [
    "fq = moon[moon['phase']=='First Quarter']['date'].tolist()\n",
    "x,y = to_lists(location_of_complaints_around_moons(fq))\n",
    "createNYCMap(x, y, res = 'l')"
   ]
  },
  {
   "cell_type": "code",
   "execution_count": null,
   "metadata": {
    "scrolled": true
   },
   "outputs": [],
   "source": [
    "lq = moon[moon['phase']=='Last Quarter']['date'].tolist()\n",
    "x,y = to_lists(location_of_complaints_around_moons(lq))\n",
    "createNYCMap(x, y, res = 'l')"
   ]
  }
 ],
 "metadata": {
  "kernelspec": {
   "display_name": "Python 3",
   "language": "python",
   "name": "python3"
  },
  "language_info": {
   "codemirror_mode": {
    "name": "ipython",
    "version": 3
   },
   "file_extension": ".py",
   "mimetype": "text/x-python",
   "name": "python",
   "nbconvert_exporter": "python",
   "pygments_lexer": "ipython3",
   "version": "3.6.1"
  }
 },
 "nbformat": 4,
 "nbformat_minor": 2
}
